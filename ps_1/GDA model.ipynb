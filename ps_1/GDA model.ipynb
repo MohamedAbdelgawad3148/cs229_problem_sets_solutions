{
 "cells": [
  {
   "cell_type": "code",
   "execution_count": 71,
   "id": "4aa24c06",
   "metadata": {},
   "outputs": [],
   "source": [
    "import numpy as np\n",
    "import pandas as pd\n",
    "import matplotlib.pyplot\n"
   ]
  },
  {
   "cell_type": "code",
   "execution_count": 72,
   "id": "c589aa90",
   "metadata": {},
   "outputs": [],
   "source": [
    "import sys\n",
    "import os\n",
    "sys.path.append(r'C:\\Users\\pc\\Desktop\\cs229_ps1\\src')\n",
    "from linear_model import LinearModel\n",
    "import util\n",
    "\n",
    "x_train, y_train = util.load_dataset(r'C:\\Users\\pc\\Desktop\\cs229_ps1\\data\\ds1_train.csv', add_intercept=True)\n",
    "x_valid, y_valid = util.load_dataset(r'C:\\Users\\pc\\Desktop\\cs229_ps1\\data\\ds1_valid.csv', add_intercept=True)"
   ]
  },
  {
   "cell_type": "code",
   "execution_count": 73,
   "id": "c93390be",
   "metadata": {},
   "outputs": [],
   "source": [
    "class GDA(LinearModel):\n",
    "    def fit(self,x,y):\n",
    "        m,n = x.shape\n",
    "        phi = np.sum(y)* (1/m)\n",
    "        muo_1 = np.dot(y.T,x)/np.sum(y)\n",
    "        muo_0 = np.dot((1-y).T,x)/np.sum(1-y)\n",
    "        y_resh = np.reshape(y,(m,-1))\n",
    "        muo_y = y_resh * muo_1 + (1-y_resh) * muo_0\n",
    "        x_center = x-muo_y\n",
    "        sigma = np.dot(x_center.T,x_center) / m\n",
    "        theta=np.dot(np.linalg.pinv(sigma),muo_1 - muo_0)\n",
    "        theta_zero= 1 / 2 * muo_0 @ np.linalg.pinv(sigma) @ muo_0 - 1 / 2 * muo_1 @ np.linalg.pinv(sigma) @ muo_1 - np.log((1 - phi) / phi)\n",
    "        self.theta = theta\n",
    "        self.theta_zero = theta_zero\n",
    "        # self.theta_tot=np.insert(theta,theta_zero)\n",
    "        # self.theta = np.insert(theta, 0, theta_zero)\n",
    "        self.theta_t = np.insert(theta, 0, theta_zero)\n",
    "        \n",
    "    def predict(self, x):\n",
    "        return (x @ self.theta + self.theta_zero >= 0).astype(int)\n",
    "\n",
    "\n"
   ]
  },
  {
   "cell_type": "code",
   "execution_count": 74,
   "id": "3ff03e42",
   "metadata": {},
   "outputs": [
    {
     "name": "stdout",
     "output_type": "stream",
     "text": [
      "0.86625\n"
     ]
    }
   ],
   "source": [
    "model=GDA(LinearModel)\n",
    "model.fit(x_train,y_train)\n",
    "print(np.mean(y_train==model.predict(x_train)))"
   ]
  }
 ],
 "metadata": {
  "kernelspec": {
   "display_name": "Python 3",
   "language": "python",
   "name": "python3"
  },
  "language_info": {
   "codemirror_mode": {
    "name": "ipython",
    "version": 3
   },
   "file_extension": ".py",
   "mimetype": "text/x-python",
   "name": "python",
   "nbconvert_exporter": "python",
   "pygments_lexer": "ipython3",
   "version": "3.13.2"
  }
 },
 "nbformat": 4,
 "nbformat_minor": 5
}
